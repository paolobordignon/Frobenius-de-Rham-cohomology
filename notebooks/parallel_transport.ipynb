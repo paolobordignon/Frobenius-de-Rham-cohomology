{
 "cells": [
  {
   "cell_type": "markdown",
   "id": "01b8897c-892b-46d4-a993-9ad23af2231d",
   "metadata": {},
   "source": [
    "## Parallel transport of Frobenius Matrices"
   ]
  },
  {
   "cell_type": "code",
   "execution_count": 13,
   "id": "b1145884-696c-45e3-b530-71b562655186",
   "metadata": {},
   "outputs": [],
   "source": [
    "def extended_euclidean_poly(f, g):\n",
    "    R = f.parent()\n",
    "    x = S.gens()[0]  \n",
    "    r0, r1 = f, g\n",
    "    A0, A1, A2 = R(1), R(0), R(0)\n",
    "    B0, B1, B2 = R(0), R(1), R(0)\n",
    "    \n",
    "    while r1.degree() != 0:\n",
    "        r2 = r0 % r1\n",
    "        q = (r0-r2)/r1\n",
    "        r0 = r1\n",
    "        r1 = r2\n",
    "    \n",
    "        A2 = A0 - q*A1\n",
    "        B2 = B0 - q*B1\n",
    "        \n",
    "        A0 = A1\n",
    "        A1 = A2\n",
    "        B0 = B1\n",
    "        B1 = B2\n",
    "        \n",
    "    return (A2/r1,B2/r1)"
   ]
  },
  {
   "cell_type": "code",
   "execution_count": 14,
   "id": "41171abf-4acb-49f4-ab21-6b4b085182b3",
   "metadata": {},
   "outputs": [],
   "source": [
    "def GaussManin(f, exact_bool = False):\n",
    "    \n",
    "    S = f.parent()\n",
    "    x = S.gens()[0]  \n",
    "    t = S.base_ring().gens()[0]\n",
    "\n",
    "    f_x = f.derivative(x)\n",
    "    f_t = f.derivative(t)\n",
    "    \n",
    "    (A,B) = extended_euclidean_poly(f, f_x)\n",
    "\n",
    "    A_t = A.derivative(t)\n",
    "    B_x = B.derivative(x)\n",
    "    B_t = B.derivative(t)\n",
    "\n",
    "    domega = -1/2*A*f_t - A_t*f + B_x*f_t-B_t*f_x\n",
    "    dxomega = x*domega + B*f_t\n",
    "    domega = domega.numerator()\n",
    "    dxomega = dxomega.numerator()\n",
    "\n",
    "    deg_domega = 0 if domega == 0 else domega.degree()\n",
    "    deg_dxomega = max(dxomega.degree(),0)\n",
    "    deg_max = max(deg_domega,deg_dxomega)\n",
    "    \n",
    "    vec_domega = [0] if domega == 0 else domega.coefficients(sparse = False)\n",
    "    vec_domega.reverse()\n",
    "    vec_domega = vector(vec_domega)\n",
    "    vec_dxomega = dxomega.coefficients(sparse = False)\n",
    "    vec_dxomega.reverse()\n",
    "    vec_dxomega = vector(vec_dxomega)\n",
    "\n",
    "    vec_f = f.list()\n",
    "    vec_f.reverse()\n",
    "    vec_f_x = f_x.list()\n",
    "    vec_f_x.reverse()\n",
    "    \n",
    "    vec_coefx = zero_vector(S,deg_max+1)\n",
    "    vec_coefx[deg_max-1] = 1\n",
    "    vec_coef0 = zero_vector(S,deg_max+1)\n",
    "    vec_coef0[deg_max] = 1\n",
    "\n",
    "    exact_form = 0 #this exact form needs to be multiplied to deduce the correct exact form to subtract\n",
    "\n",
    "    for n in range(1,deg_max):\n",
    "    \n",
    "        M_P = matrix(S,n,n,lambda i,j: vec_f_x[0] if i==j else vec_f_x[1] if i==j+1 else vec_f_x[2] if i==j+2 else 0 )\n",
    "    \n",
    "        M_Px = matrix(S,n,n,lambda i,j: (n-i-1)*vec_f[0] if i==j else (n-i)*vec_f[1] if i==j+1 else (n-i+1)*vec_f[2] if i==j+2 else (n-i+2)*vec_f[3] if i==j+3 else 0 )\n",
    "        \n",
    "        M = 1/2*M_P+M_Px\n",
    "    \n",
    "        unit_vec_xn = zero_vector(S,n)\n",
    "        unit_vec_xn[0] = 1\n",
    "    \n",
    "        F = sum([b*x^a for a,b in enumerate(reversed(M^(-1)*unit_vec_xn))])\n",
    "        exact_form += F\n",
    "        \n",
    "        xn_as_exact_form = 1/2*F*f_x+F.derivative(x)*f\n",
    "        # xn_as_exact_form =  X^(n+1)+coeff_x*X+coeff_0\n",
    "        \n",
    "        list_coeff_x = xn_as_exact_form.numerator().list()\n",
    "        list_coeff_x.reverse()\n",
    "        coeff_x = list_coeff_x[n]\n",
    "        vec_coefx[deg_max-n-1] = -1*coeff_x\n",
    "    \n",
    "        list_coeff_0 = xn_as_exact_form.numerator().list()\n",
    "        list_coeff_0.reverse()\n",
    "        coeff_0 = list_coeff_x[n+1]\n",
    "        vec_coef0[deg_max-n-1] = -1*coeff_0\n",
    "\n",
    "    xomega_coeff_domega = vec_coefx[(deg_max-deg_domega):deg_max+1].dot_product(vec_domega)\n",
    "    omega_coeff_domega= vec_coef0[(deg_max-deg_domega):deg_max+1].dot_product(vec_domega)\n",
    "    \n",
    "    xomega_coeff_dxomega= vec_coefx.dot_product(vec_dxomega)\n",
    "    omega_coeff_dxomega= vec_coef0.dot_product(vec_dxomega)\n",
    "    \n",
    "    GMmatrix = matrix([[omega_coeff_domega,xomega_coeff_domega],[omega_coeff_dxomega,xomega_coeff_dxomega]])(x=0)\n",
    "\n",
    "    if exact_bool:\n",
    "        return (GMmatrix,exact_form)\n",
    "    else:\n",
    "        return GMmatrix"
   ]
  },
  {
   "cell_type": "code",
   "execution_count": 15,
   "id": "2a4e29e2-7b14-433b-8b54-ba21c39ef18e",
   "metadata": {},
   "outputs": [],
   "source": [
    "P.<t> = PolynomialRing(QQ,'t')\n",
    "Q = FractionField(P)\n",
    "S.<x> = PolynomialRing(Q,'x')\n",
    "\n",
    "N = GaussManin(x^3-t-1)"
   ]
  },
  {
   "cell_type": "markdown",
   "id": "71518d1e-e43b-487f-aebc-0e6c5ef1b6a6",
   "metadata": {},
   "source": [
    "Given the matrix of Gauss Manin connection $N$, we want to compute a matrix $U$ with power series entries in $\\mathbb{Q}[[t]]$ such that\n",
    "$$ UN+\\frac{d}{dt}U=0$$\n",
    "$$ U(0) = I_n$$"
   ]
  },
  {
   "cell_type": "code",
   "execution_count": 205,
   "id": "274cc230-7434-45b6-98e4-c68f2be54ea6",
   "metadata": {},
   "outputs": [],
   "source": [
    "def horizontal_basis(N,N_pow_ser = False,p_adic = False,p=5):\n",
    "    \n",
    "    R2.<t> = LaurentSeriesRing(QQ)\n",
    "    R1.<a,b,c,d> = PolynomialRing(QQ)\n",
    "    R.<t> = LaurentSeriesRing(R1,'t',default_prec = 20)\n",
    "    N2 = matrix([[R(N[0,0]),R(N[0,1])],[R(N[1,0]),R(N[1,1])]])\n",
    "    U = identity_matrix(R,2)\n",
    "    U1 = matrix([[a,b],[c,d]])\n",
    "    \n",
    "    for i in range(1,R.default_prec()+1):\n",
    "        U += U1*t^i\n",
    "        N1 = ((U*N2+U.derivative(t))/t^(i-1))(t=0)\n",
    "        J = R1.ideal(N1.list())\n",
    "        U = U(a=J.reduce(a),b=J.reduce(b),c=J.reduce(c),d=J.reduce(d))\n",
    "\n",
    "    U2 = matrix([[R2(U[0,0]),R2(U[0,1])],[R2(U[1,0]),R2(U[1,1])]])\n",
    "\n",
    "    if p_adic:\n",
    "        Q_p = Qp(p, prec = 10, type = 'capped-rel', print_mode = 'series')\n",
    "        R3.<t> =LaurentSeriesRing(Q_p)\n",
    "        U3 = matrix([[R3(U2[0,0]),R3(U2[0,1])],[R3(U2[1,0]),R3(U2[1,1])]])\n",
    "        N3 = matrix([[R3(N2[0,0]),R3(N2[0,1])],[R3(N2[1,0]),R3(N2[1,1])]])\n",
    "        \n",
    "        if N_pow_ser:\n",
    "            return (U3,N3)\n",
    "        else:\n",
    "            return U3\n",
    "    else:\n",
    "        if N_pow_ser:\n",
    "            return (U2,N2)\n",
    "        else:\n",
    "            return U2"
   ]
  },
  {
   "cell_type": "code",
   "execution_count": 127,
   "id": "98279baa-268d-4ab3-9b44-c8b09e0dfb6e",
   "metadata": {},
   "outputs": [],
   "source": [
    "def reduction_coeff(f,pow_ser):\n",
    "    \"\"\"\n",
    "    Given a power series in z with coefficients polynomials in x, uses the function reduction_deg_2g() to return the power series\n",
    "    with coefficients polynomials in x fo degree <3 in the polynomial ring K[x,y,z]/(y^2-f(x),yz-1)\n",
    "    \"\"\"\n",
    "    pow_ser_2 = pow_ser\n",
    "    for i in range(len(pow_ser_2.coefficients())):\n",
    "        pow_ser += -z^pow_ser_2.exponents()[i]*pow_ser_2.coefficients()[i]+z^pow_ser_2.exponents()[i]*reduction_deg_2g(f,pow_ser_2.coefficients()[i])\n",
    "    return pow_ser"
   ]
  },
  {
   "cell_type": "code",
   "execution_count": 128,
   "id": "7b3bd646-aeaf-4f7f-926a-0c45b89ad503",
   "metadata": {},
   "outputs": [],
   "source": [
    "def reduction_deg_2g(f,pol):\n",
    "    \"\"\"\n",
    "    Given a polynomial in x, returns the representative in K[x,y,z]/(y^2-f(x),yz-1) that is a polynomial in K[x][z,z^(-1)] with the \n",
    "    degree in x <=2\n",
    "    \"\"\"\n",
    "    if pol(z=1).degree()<3:\n",
    "        return pol\n",
    "    else: \n",
    "        n = pol(z=1).degree()\n",
    "        pol += - pol(z=1).coefficients()[-1]*(f^(floor(n/3))-1/z^(2*floor(n/3)))*x^(n%3)\n",
    "        return reduction_deg_2g(f,pol)"
   ]
  },
  {
   "cell_type": "code",
   "execution_count": 129,
   "id": "cbd79f76-5620-4598-bf93-df8a46b54213",
   "metadata": {},
   "outputs": [],
   "source": [
    "def differential_zn(f,i,n):\n",
    "    \"\"\"\n",
    "    Compute the exact differential d(x^iz^n) with i=0,1,2 and n integer\n",
    "    return p(x,z) where p(x,z)dx=d(x^i z^n) and p(x,z)=\\sum p_i(x)z^i with degree(p_i(x))<3 \n",
    "    \"\"\"\n",
    "    if n == 0:\n",
    "        return i*x^(i-1)*z^0\n",
    "    return (i*x^(i-1)*z^n+reduction_deg_2g(f,-1/2*n*f.derivative(x)*x^i)*z^(n+2))\n"
   ]
  },
  {
   "cell_type": "code",
   "execution_count": 74,
   "id": "b3959767-96ef-4cb7-8fda-f4a71ce9c23c",
   "metadata": {},
   "outputs": [],
   "source": [
    "def matrix_coeff_differentials_pos(f,n):\n",
    "    matrix_diff = matrix(QQ,3)\n",
    "    for i in range(3):\n",
    "        if differential_zn(f,i,n) == 0:\n",
    "            pol_coef = 0\n",
    "        else:\n",
    "            pol_coef = differential_zn(f,i,n).coefficients()[-1]\n",
    "        for j in range(3):\n",
    "            if pol_coef == 0:\n",
    "                matrix_diff[j,i] = 0\n",
    "            else:\n",
    "                matrix_diff[j,i] = pol_coef[j]\n",
    "    return matrix_diff\n",
    "\n",
    "def matrix_coeff_differentials_neg(f,n):\n",
    "    matrix_diff = matrix(QQ,3)\n",
    "    for i in range(3):\n",
    "        if differential_zn(f,i,n) == 0:\n",
    "            pol_coef = 0\n",
    "        else:\n",
    "            if i == 0:\n",
    "                pol_coef = differential_zn(f,i,n-2).coefficients()[0]\n",
    "            else:\n",
    "                pol_coef = differential_zn(f,i,n).coefficients()[0]\n",
    "        for j in range(3):\n",
    "            if pol_coef == 0:\n",
    "                matrix_diff[j,i] = 0\n",
    "            else:\n",
    "                matrix_diff[j,i] = pol_coef[j]\n",
    "    return matrix_diff\n",
    "\n",
    "def vector_coeff(pol):\n",
    "    return vector([pol[0],pol[1],pol[2]])"
   ]
  },
  {
   "cell_type": "code",
   "execution_count": 105,
   "id": "16c36652-2d07-453f-8b29-c6e4f02d08c3",
   "metadata": {},
   "outputs": [],
   "source": [
    "def reduction_z_pos(f,pow_ser,exact_form=0):\n",
    "    if pow_ser.degree()<3:\n",
    "        return (pow_ser,exact_form)\n",
    "    else:\n",
    "        k = pow_ser.degree()\n",
    "        M = matrix_coeff_differentials_pos(f,k-2)\n",
    "        V = vector_coeff(pow_ser.coefficients()[-1])\n",
    "        X = M.solve_right(V)\n",
    "        exact_form += X.dot_product(vector([x^0*z^(k-2),x^1*z^(k-2),x^2*z^(k-2)]))\n",
    "        return reduction_z_pos(f,pow_ser-X.dot_product(vector([differential_zn(f,0,k-2),differential_zn(f,1,k-2),differential_zn(f,2,k-2)])),exact_form)"
   ]
  },
  {
   "cell_type": "code",
   "execution_count": 106,
   "id": "791ab6c9-6efc-44c3-8b1d-965853619ee2",
   "metadata": {},
   "outputs": [],
   "source": [
    "def reduction_z_neg(f,pow_ser,exact_form=0):\n",
    "    if pow_ser.exponents()[0]>0:\n",
    "        return (pow_ser,exact_form)\n",
    "    else:\n",
    "        k = pow_ser.exponents()[0]\n",
    "        M = matrix_coeff_differentials_neg(f,k)\n",
    "        V = vector_coeff(pow_ser.coefficients()[0])\n",
    "        X = M.solve_right(V)\n",
    "        exact_form += X.dot_product(vector([x^0*z^(k-2),x^1*z^k,x^2*z^k]))\n",
    "        return reduction_z_neg(f,pow_ser-X.dot_product(vector([differential_zn(f,0,k-2),differential_zn(f,1,k),differential_zn(f,2,k)])),exact_form)"
   ]
  },
  {
   "cell_type": "code",
   "execution_count": 77,
   "id": "62bbe22c-3625-4b15-875e-2d11345cf39d",
   "metadata": {},
   "outputs": [],
   "source": [
    "def reduction_z(f,pow_ser):\n",
    "    red_pow_ser_pos, exact_pos = reduction_z_pos(f,pow_ser)\n",
    "    red_pow_ser_neg, exact_neg = reduction_z_neg(f,red_pow_ser_pos,exact_pos)\n",
    "\n",
    "    exact_form = exact_neg + red_pow_ser_neg[1][2]/(differential_zn(f,0,-1)[1][2])*z^(-1)\n",
    "    red_pow_ser_fin = red_pow_ser_neg -red_pow_ser_neg[1][2]/(differential_zn(f,0,-1)[1][2])*differential_zn(f,0,-1)\n",
    "\n",
    "    return (red_pow_ser_fin,exact_form)"
   ]
  },
  {
   "cell_type": "code",
   "execution_count": 319,
   "id": "810f2e17-d9de-4abe-bd3f-b7f3060cf730",
   "metadata": {},
   "outputs": [],
   "source": [
    "p = 5\n",
    "Z5 = Qp(p, prec = 10, type = 'capped-rel', print_mode = 'series')\n",
    "R.<x> = PowerSeriesRing(Z5)\n",
    "S.<z> = PowerSeriesRing(R,default_prec=5*20)\n",
    "V = FractionField(S)\n",
    "\n",
    "def matrix_frobenius(p,f,prec=10, exact_dif = False, d_prec=20):\n",
    "\n",
    "    R = f.parent()\n",
    "    S.<z> = PowerSeriesRing(R,default_prec=p*d_prec)\n",
    "    \n",
    "    Z5 = Zp(p, type = 'capped-abs', print_mode = 'series')\n",
    "    \n",
    "    frob_x = x^p\n",
    "    #frob_y = y^p*(1+(f(x^p)-f(x)^p)*1/f(x)^p)^(1/2)\n",
    "    frob_z = z^p*(1+(f(x^p)-f(x)^p)*z^(2*p))^(-1/2)\n",
    "\n",
    "    f=S(f)\n",
    "    \n",
    "    frob_omega = p*x^(p-1)*frob_z\n",
    "    frob_eta = p*x^(2*p-1)*frob_z\n",
    "    \n",
    "    red_frob_eta = reduction_coeff(f,frob_eta)\n",
    "    red_frob_omega = reduction_coeff(f,frob_omega)\n",
    "\n",
    "    red_frob_eta_fin, exact_form_eta= reduction_z(f,red_frob_eta)\n",
    "    red_frob_omega_fin, exact_form_omega= reduction_z(f,red_frob_omega)\n",
    "\n",
    "    matrix_frobenius = matrix(Z5,2)\n",
    "    matrix_frobenius[0,0] = red_frob_omega_fin[1][0]\n",
    "    matrix_frobenius[0,1] = red_frob_omega_fin[1][1]\n",
    "    matrix_frobenius[1,0] = red_frob_eta_fin[1][0]\n",
    "    matrix_frobenius[1,1] = red_frob_eta_fin[1][1]\n",
    "\n",
    "    if exact_dif:\n",
    "        return (matrix_frobenius, [exact_form_omega,exact_form_eta])\n",
    "    else:\n",
    "        return matrix_frobenius"
   ]
  },
  {
   "cell_type": "code",
   "execution_count": null,
   "id": "6f60538d-5316-4cf5-889f-cd4af4a51251",
   "metadata": {},
   "outputs": [],
   "source": []
  },
  {
   "cell_type": "code",
   "execution_count": 323,
   "id": "bc92acc8-9ce8-4d95-a430-e61a0c53c0a3",
   "metadata": {},
   "outputs": [],
   "source": [
    "M1 = matrix_frobenius(5,x*(x-1)*(x+1))\n",
    "M2 = matrix_frobenius(5,x*(x-1)*(x+1+5))"
   ]
  },
  {
   "cell_type": "code",
   "execution_count": 218,
   "id": "b7fa0f65-d5bb-4c13-8b95-2d99c242717d",
   "metadata": {},
   "outputs": [],
   "source": [
    "P.<t> = PolynomialRing(QQ,'t')\n",
    "Q = FractionField(P)\n",
    "S.<x> = PolynomialRing(Q,'x')\n",
    "\n",
    "N = GaussManin(x*(x-1)*(x+1+t))"
   ]
  },
  {
   "cell_type": "code",
   "execution_count": 248,
   "id": "6315078c-9607-46c1-be5c-61ea210dbf64",
   "metadata": {},
   "outputs": [],
   "source": [
    "U,N5 = horizontal_basis(N,N_pow_ser = True, p_adic = True,p=5)\n",
    "U5 = U(t=5)"
   ]
  },
  {
   "cell_type": "code",
   "execution_count": null,
   "id": "9a39390f-ce5c-457b-a6d1-7a1bbadf5622",
   "metadata": {},
   "outputs": [],
   "source": []
  },
  {
   "cell_type": "code",
   "execution_count": null,
   "id": "8d73e961-9a86-46fe-95a3-6bdf84a34871",
   "metadata": {},
   "outputs": [],
   "source": []
  },
  {
   "cell_type": "code",
   "execution_count": null,
   "id": "b546dc5e-4687-4a58-89ff-1e2341a05c03",
   "metadata": {},
   "outputs": [],
   "source": []
  },
  {
   "cell_type": "markdown",
   "id": "2c7d6f3e-a76c-41f4-9160-0a8fc685fff2",
   "metadata": {},
   "source": [
    "A solution for the differential equation satisfied by the Frobenius Matrix and the Gauss Manin connection \n",
    "$$ NF+\\frac{d}{dt}F=\\frac{d\\varphi(t)}{dt}A\\varphi(N)$$\n",
    "uses the solution of the differential equation\n",
    "$$ UN+\\frac{d}{dt}U=0$$\n",
    "to obtain \n",
    "$$F(t)=\\varphi(U)^{-1}F(0)U$$"
   ]
  },
  {
   "cell_type": "code",
   "execution_count": 332,
   "id": "89377d09-b4fb-4958-b436-8ed547b11f1b",
   "metadata": {},
   "outputs": [],
   "source": [
    "F5_2 = U(t=5)^(-1)*F0*U(t=5)"
   ]
  },
  {
   "cell_type": "code",
   "execution_count": 333,
   "id": "51ece4d5-2ad3-4d09-91d5-63ee5c1204c0",
   "metadata": {},
   "outputs": [
    {
     "data": {
      "text/plain": [
       "(1 + O(5^8))*x^2 + (2 + O(5^8))*x + 5 + O(5^8)"
      ]
     },
     "execution_count": 333,
     "metadata": {},
     "output_type": "execute_result"
    }
   ],
   "source": [
    "F2.characteristic_polynomial()"
   ]
  },
  {
   "cell_type": "code",
   "execution_count": null,
   "id": "7ee0e24b-f05e-402f-bcbb-0a4c0518b58d",
   "metadata": {},
   "outputs": [],
   "source": []
  },
  {
   "cell_type": "code",
   "execution_count": null,
   "id": "b8bcc560-4d87-41e6-95f0-1ea50910de57",
   "metadata": {},
   "outputs": [],
   "source": []
  },
  {
   "cell_type": "code",
   "execution_count": null,
   "id": "a94b9fe2-7575-4f76-8bf3-decf6561b1a8",
   "metadata": {},
   "outputs": [],
   "source": []
  },
  {
   "cell_type": "code",
   "execution_count": 334,
   "id": "44257c1c-c898-4e4c-9d79-b88b71762848",
   "metadata": {},
   "outputs": [
    {
     "data": {
      "text/plain": [
       "(1 + O(5^10))*x^2 + (1 + 2*5 + 3*5^2 + 4*5^3 + 2*5^4 + 5^5 + 3*5^6 + 4*5^7 + O(5^8))*x + 2*5^3 + 3*5^4 + 5^6 + 5^7 + O(5^8)"
      ]
     },
     "execution_count": 334,
     "metadata": {},
     "output_type": "execute_result"
    }
   ],
   "source": [
    "F5_2.characteristic_polynomial()"
   ]
  },
  {
   "cell_type": "code",
   "execution_count": 294,
   "id": "e0a7c07f-d5b8-404f-8f5d-dbc8636e2ef0",
   "metadata": {},
   "outputs": [],
   "source": [
    "R.<x> = QQ['x']\n",
    "E1 = HyperellipticCurve(x*(x-1)*(x+1))\n",
    "F1 = E1.matrix_of_frobenius(5,8)\n",
    "\n",
    "E2 = HyperellipticCurve(x*(x-1)*(x+1+5))\n",
    "F2 = E2.matrix_of_frobenius(5,8)"
   ]
  },
  {
   "cell_type": "code",
   "execution_count": 304,
   "id": "65663d84-24e5-4442-8a31-5724360210a9",
   "metadata": {},
   "outputs": [
    {
     "data": {
      "text/plain": [
       "[                       3*5^3 + 4*5^5 + 2*5^6 + 5^8 + O(5^10)                                                      O(5^20)]\n",
       "[                                                     O(5^20) 4 + 2*5 + 5^2 + 2*5^3 + 5^4 + 4*5^5 + 3*5^6 + 4*5^7 + O(5^8)]"
      ]
     },
     "execution_count": 304,
     "metadata": {},
     "output_type": "execute_result"
    }
   ],
   "source": [
    "M0"
   ]
  },
  {
   "cell_type": "code",
   "execution_count": 291,
   "id": "ad4af4e4-948f-4fa3-a652-80f20e0390ef",
   "metadata": {},
   "outputs": [
    {
     "data": {
      "text/plain": [
       "(1 + O(5^8))*x^2 + (2 + O(5^8))*x + 5 + O(5^8)"
      ]
     },
     "execution_count": 291,
     "metadata": {},
     "output_type": "execute_result"
    }
   ],
   "source": [
    "F1.characteristic_polynomial()"
   ]
  },
  {
   "cell_type": "code",
   "execution_count": null,
   "id": "98a518ae-f398-4174-a182-2ef27925b4cb",
   "metadata": {},
   "outputs": [],
   "source": []
  }
 ],
 "metadata": {
  "kernelspec": {
   "display_name": "SageMath 10.5",
   "language": "sage",
   "name": "sagemath-10.5"
  },
  "language_info": {
   "codemirror_mode": {
    "name": "ipython",
    "version": 3
   },
   "file_extension": ".py",
   "mimetype": "text/x-python",
   "name": "python",
   "nbconvert_exporter": "python",
   "pygments_lexer": "ipython3",
   "version": "3.12.5"
  }
 },
 "nbformat": 4,
 "nbformat_minor": 5
}
