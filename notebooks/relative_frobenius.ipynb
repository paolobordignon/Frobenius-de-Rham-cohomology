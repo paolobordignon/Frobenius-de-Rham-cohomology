{
 "cells": [
  {
   "cell_type": "markdown",
   "id": "52852fb6-13d5-49e3-8fc0-7cbb92c842b3",
   "metadata": {},
   "source": [
    "## Frobenius action on the relative de Rham cohomology of Elliptic Curves\n",
    "\n",
    "The following notebook contains the necessary steps to compute the Frobenius action on the relative $H_{dR}$"
   ]
  },
  {
   "cell_type": "code",
   "execution_count": 1,
   "id": "90f3bac2-4f1e-453a-990b-26305dc6390a",
   "metadata": {},
   "outputs": [],
   "source": [
    "def reduction_deg_2g(f,pol):\n",
    "    \"\"\"\n",
    "    Given a polynomial in x, returns the representative in K[x,y,z]/(y^2-f(x),yz-1) that is a polynomial in K[x][z,z^(-1)] with the \n",
    "    degree in x <=2\n",
    "    \"\"\"\n",
    "    if R(pol(z=1)).degree()<3:\n",
    "        return pol\n",
    "    else: \n",
    "        n = pol(z=1).degree()\n",
    "        pol += - pol(z=1).coefficients()[-1]*(f^(floor(n/3))-1/z^(2*floor(n/3)))*x^(n%3)\n",
    "        return reduction_deg_2g(f,pol)"
   ]
  },
  {
   "cell_type": "code",
   "execution_count": 2,
   "id": "2587636a-b59e-4a91-b48d-7041ea30dba5",
   "metadata": {},
   "outputs": [],
   "source": [
    "def reduction_coeff(pow_ser):\n",
    "    \"\"\"\n",
    "    Given a power series in z with coefficients polynomials in x, uses the function reduction_deg_2g() to return the power series\n",
    "    with coefficients polynomials in x fo degree <3 in the polynomial ring K[x,y,z]/(y^2-f(x),yz-1)\n",
    "    \"\"\"\n",
    "    pow_ser_2 = pow_ser\n",
    "    for i in range(len(pow_ser_2.coefficients())):\n",
    "        pow_ser += -z^pow_ser_2.exponents()[i]*pow_ser_2.coefficients()[i]+z^pow_ser_2.exponents()[i]*reduction_deg_2g(f,pow_ser_2.coefficients()[i])\n",
    "    return pow_ser\n"
   ]
  },
  {
   "cell_type": "code",
   "execution_count": 3,
   "id": "b41d0fe7-163e-4ea3-95e1-37bb1f89550f",
   "metadata": {},
   "outputs": [],
   "source": [
    "def matrix_coeff_differentials_pos(n):\n",
    "    matrix_diff = matrix(P,3)\n",
    "    for i in range(3):\n",
    "        if differential_zn(f,i,n) == 0:\n",
    "            pol_coef = 0\n",
    "        else:\n",
    "            pol_coef = differential_zn(f,i,n).coefficients()[-1]\n",
    "        for j in range(3):\n",
    "            if pol_coef == 0:\n",
    "                matrix_diff[j,i] = 0\n",
    "            else:\n",
    "                matrix_diff[j,i] = pol_coef[j]\n",
    "    return matrix_diff\n",
    "\n",
    "def matrix_coeff_differentials_neg(n):\n",
    "    matrix_diff = matrix(P,3)\n",
    "    for i in range(3):\n",
    "        if differential_zn(f,i,n) == 0:\n",
    "            pol_coef = 0\n",
    "        else:\n",
    "            if i == 0:\n",
    "                pol_coef = differential_zn(f,i,n-2).coefficients()[0]\n",
    "            else:\n",
    "                pol_coef = differential_zn(f,i,n).coefficients()[0]\n",
    "        for j in range(3):\n",
    "            if pol_coef == 0:\n",
    "                matrix_diff[j,i] = 0\n",
    "            else:\n",
    "                matrix_diff[j,i] = pol_coef[j]\n",
    "    return matrix_diff\n",
    "\n",
    "def vector_coeff(pol):\n",
    "    return vector([pol[0],pol[1],pol[2]])"
   ]
  },
  {
   "cell_type": "code",
   "execution_count": 4,
   "id": "fda33238-853b-4c14-817d-a55178449618",
   "metadata": {},
   "outputs": [],
   "source": [
    "def differential_zn(f,i,n):\n",
    "    \"\"\"\n",
    "    Compute the exact differential d(x^iz^n) with i=0,1,2 and n integer\n",
    "    return p(x,z) where p(x,z)dx=d(x^i z^n) and p(x,z)=\\sum p_i(x)z^i with degree(p_i(x))<3 \n",
    "    \"\"\"\n",
    "    if n == 0:\n",
    "        return i*x^(i-1)*z^0\n",
    "    return (i*x^(i-1)*z^n+reduction_deg_2g(f,-1/2*n*f.derivative(x)*x^i)*z^(n+2))"
   ]
  },
  {
   "cell_type": "code",
   "execution_count": 102,
   "id": "65b2e8ca-0610-4f0e-9752-94d91e575c23",
   "metadata": {},
   "outputs": [],
   "source": [
    "def reduction_z_pos(pow_ser,exact_form=0):\n",
    "    if pow_ser().exponents()[-1]<3:\n",
    "        return (pow_ser,exact_form)\n",
    "    else:\n",
    "        k = pow_ser().exponents()[-1]\n",
    "        M = matrix_coeff_differentials_pos(k-2)\n",
    "        V = vector_coeff(pow_ser[k])\n",
    "        X = M.solve_right(V)\n",
    "        exact_form += X.dot_product(vector([x^0*z^(k-2),x^1*z^(k-2),x^2*z^(k-2)]))\n",
    "        return reduction_z_pos(pow_ser-X.dot_product(vector([differential_zn(f,0,k-2),differential_zn(f,1,k-2),differential_zn(f,2,k-2)])),exact_form)"
   ]
  },
  {
   "cell_type": "code",
   "execution_count": 97,
   "id": "1d43c671-8224-4994-942e-1b1453e7365f",
   "metadata": {},
   "outputs": [],
   "source": [
    "def reduction_z_neg(pow_ser,exact_form=0):\n",
    "    if pow_ser.exponents()[0]>0:\n",
    "        return (pow_ser,exact_form)\n",
    "    else:\n",
    "        k = pow_ser.exponents()[0]\n",
    "        M = matrix_coeff_differentials_neg(k)\n",
    "        V = vector_coeff(pow_ser.coefficients()[0])\n",
    "        X = M.solve_right(V)\n",
    "        exact_form += X.dot_product(vector([x^0*z^(k-2),x^1*z^k,x^2*z^k]))\n",
    "        return reduction_z_neg(pow_ser-X.dot_product(vector([differential_zn(f,0,k-2),differential_zn(f,1,k),differential_zn(f,2,k)])),exact_form)\n",
    "\n",
    "def reduction_z(pow_ser):\n",
    "    red_pow_ser_pos, exact_pos = reduction_z_pos(pow_ser)\n",
    "    red_pow_ser_fin, exact_form = reduction_z_neg(red_pow_ser_pos,exact_pos)\n",
    "\n",
    "    if red_pow_ser_fin[1][2] !=0:\n",
    "        exact_form = exact_form + red_pow_ser_fin[1][2]/(differential_zn(f,0,-1)[1][2])*z^(-1)\n",
    "        red_pow_ser_fin = red_pow_ser_fin -red_pow_ser_fin[1][2]/(differential_zn(f,0,-1)[1][2])*differential_zn(f,0,-1)\n",
    "\n",
    "    return (red_pow_ser_fin,exact_form)\n",
    "    "
   ]
  },
  {
   "cell_type": "code",
   "execution_count": 124,
   "id": "c1f86486-1dd9-4246-a332-042785ad7676",
   "metadata": {},
   "outputs": [],
   "source": [
    "p = 5\n",
    "Z5 = Qp(p, prec = 10, type = 'capped-rel', print_mode = 'series')\n",
    "P.<t> = LaurentSeriesRing(Z5)\n",
    "R.<x> = PowerSeriesRing(P)\n",
    "S.<z> = PowerSeriesRing(R)\n",
    "V = FractionField(S)\n",
    "\n",
    "def matrix_frobenius(p,f,prec=10, exact_dif = False):\n",
    "\n",
    "    R = f.parent()\n",
    "    P = f(x=0).parent()\n",
    "    S.<z> = PowerSeriesRing(R)\n",
    "\n",
    "    f = S(f)\n",
    "    \n",
    "    Z5 = Qp(p, prec, type = 'capped-rel', print_mode = 'series')\n",
    "    \n",
    "    \n",
    "    frob_x = x^p\n",
    "    frob_z = z^p*(1+(f(x^p)-f(x)^p)*z^(2*p))^(-1/2)\n",
    "    \n",
    "    frob_omega = p*x^(p-1)*frob_z\n",
    "    frob_eta = p*x^(2*p-1)*frob_z\n",
    "    \n",
    "    red_frob_eta = reduction_coeff(frob_eta)\n",
    "    red_frob_omega = reduction_coeff(frob_omega)\n",
    "\n",
    "    red_frob_eta_fin, exact_form_eta= reduction_z(red_frob_eta)\n",
    "    red_frob_omega_fin, exact_form_omega= reduction_z(red_frob_omega)\n",
    "\n",
    "    matrix_frobenius = matrix(P,2)\n",
    "    matrix_frobenius[0,0] = red_frob_omega_fin[1][0]\n",
    "    matrix_frobenius[0,1] = red_frob_omega_fin[1][1]\n",
    "    matrix_frobenius[1,0] = red_frob_eta_fin[1][0]\n",
    "    matrix_frobenius[1,1] = red_frob_eta_fin[1][1]\n",
    "\n",
    "    if exact_dif:\n",
    "        return (matrix_frobenius, [exact_form_omega,exact_form_eta])\n",
    "    else:\n",
    "        return matrix_frobenius\n",
    "    "
   ]
  },
  {
   "cell_type": "code",
   "execution_count": 125,
   "id": "600511fa-7af9-470d-8463-e8622eb989be",
   "metadata": {},
   "outputs": [],
   "source": [
    "f = x*(x-1)*(x-t+1)\n",
    "M = matrix_frobenius(5,f)"
   ]
  },
  {
   "cell_type": "code",
   "execution_count": 127,
   "id": "424902eb-4dec-48e3-87a5-44ade63f2d02",
   "metadata": {},
   "outputs": [
    {
     "data": {
      "text/plain": [
       "[3*5 + 4*5^3 + 4*5^4 + 2*5^6 + 3*5^7 + 5^9 + 5^10 + O(5^11)                                                          0]\n",
       "[                                                         0     2 + 4*5 + 4*5^3 + 3*5^4 + 5^5 + 2*5^7 + 4*5^8 + O(5^9)]"
      ]
     },
     "execution_count": 127,
     "metadata": {},
     "output_type": "execute_result"
    }
   ],
   "source": [
    "M(t=0)"
   ]
  },
  {
   "cell_type": "code",
   "execution_count": null,
   "id": "47136394-8c5c-49df-b7c2-54fb59b5471b",
   "metadata": {},
   "outputs": [],
   "source": []
  }
 ],
 "metadata": {
  "kernelspec": {
   "display_name": "SageMath 10.5",
   "language": "sage",
   "name": "sagemath-10.5"
  },
  "language_info": {
   "codemirror_mode": {
    "name": "ipython",
    "version": 3
   },
   "file_extension": ".py",
   "mimetype": "text/x-python",
   "name": "python",
   "nbconvert_exporter": "python",
   "pygments_lexer": "ipython3",
   "version": "3.12.5"
  }
 },
 "nbformat": 4,
 "nbformat_minor": 5
}
