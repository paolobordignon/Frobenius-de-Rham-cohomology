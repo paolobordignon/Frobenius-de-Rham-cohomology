{
 "cells": [
  {
   "cell_type": "markdown",
   "id": "52852fb6-13d5-49e3-8fc0-7cbb92c842b3",
   "metadata": {},
   "source": [
    "## Frobenius action on the relative de Rham cohomology of Elliptic Curves\n",
    "\n",
    "The following notebook contains the necessary steps to compute the Frobenius action on the relative $H_{dR}$"
   ]
  },
  {
   "cell_type": "code",
   "execution_count": 30,
   "id": "8d22f265-9c17-4e4e-95f5-99b0dc3ddb7d",
   "metadata": {},
   "outputs": [
    {
     "data": {
      "text/plain": [
       "Power Series Ring in z over Power Series Ring in x over Fraction Field of Univariate Polynomial Ring in t over Rational Field"
      ]
     },
     "execution_count": 30,
     "metadata": {},
     "output_type": "execute_result"
    }
   ],
   "source": [
    "p = 5\n",
    "Z5 = Zp(p, prec = 10, type = 'capped-abs', print_mode = 'series')\n",
    "P.<t> = PolynomialRing(QQ)\n",
    "P = FractionField(P)\n",
    "R.<x> = PowerSeriesRing(P)\n",
    "S.<z> = PowerSeriesRing(R)\n",
    "S"
   ]
  },
  {
   "cell_type": "code",
   "execution_count": 62,
   "id": "af7219a4-69f0-4208-9fd9-46d8b082ecdd",
   "metadata": {},
   "outputs": [
    {
     "data": {
      "text/plain": [
       "z^5 + (120*x^5 - 810*x^6 + 4725/2*x^7 - 3960*x^8 + 4215*x^9 - 2970*x^10 + 1405*x^11 - 440*x^12 + 175/2*x^13 - 10*x^14)*z^15 + O(z^25)"
      ]
     },
     "execution_count": 62,
     "metadata": {},
     "output_type": "execute_result"
    }
   ],
   "source": [
    "f = x*(x-1)*(x-3)\n",
    "frob_x = x^p\n",
    "#frob_y = y^p*(1+(f(x^p)-f(x)^p)*1/f(x)^p)^(1/2)\n",
    "frob_z = z^p*(1+(f(x^p)-f(x)^p)*z^(2*p))^(-1/2)\n",
    "frob_z"
   ]
  },
  {
   "cell_type": "markdown",
   "id": "6110c887-c281-4eca-9b95-a3f3fbb6d510",
   "metadata": {},
   "source": [
    "We now consider the following differentials\n",
    "$$ \\omega = \\frac{dx}{y}=zdx$$ \n",
    "$$\\eta = \\frac{xdx}{y}=zxdx$$\n",
    "and the action of the Frobenius morphism $\\varphi$\n",
    "$$ \\varphi^*(\\omega) = px^{p-1}\\varphi(z)dx$$\n",
    "$$ \\varphi^*(\\eta) = px^{2p-1}\\varphi(z)dx$$"
   ]
  },
  {
   "cell_type": "markdown",
   "id": "bad10cdc-e8eb-4a61-bae5-4aa5794e79fe",
   "metadata": {},
   "source": [
    "This is an andomorphism of the de Rham cohomology group $H_{dR}(E/\\mathbb{Q}_5)$. In particular there exists a matrix $M$ and two rational functions $f_\\omega,f_\\eta$ such that the following holds\n",
    "$$ \\begin{pmatrix}\\varphi^*(\\omega) \\\\ \\varphi^*(\\eta)\\end{pmatrix} = M\\cdot \\begin{pmatrix}\\omega \\\\ \\eta \\end{pmatrix} + \\begin{pmatrix} df_\\omega \\\\ df_\\eta\\end{pmatrix}$$"
   ]
  },
  {
   "cell_type": "code",
   "execution_count": 50,
   "id": "3dffc5b4-1136-4d06-89df-b8d271580f10",
   "metadata": {},
   "outputs": [],
   "source": [
    "frob_omega = p*x^(p-1)*frob_z\n",
    "frob_eta = p*x^(2*p-1)*frob_z"
   ]
  },
  {
   "cell_type": "markdown",
   "id": "37c270b7-6cdc-4fb2-b254-e01036671447",
   "metadata": {},
   "source": [
    "The following is a function to reduce the coefficient of the previous power series in the form\n",
    "$$ \\sum_{i\\in \\mathbb{Z}}c_{i}z^{pi}$$\n",
    "with $c_i$ polynomials in $x$ of degree at most $2g+1$"
   ]
  },
  {
   "cell_type": "code",
   "execution_count": 51,
   "id": "90f3bac2-4f1e-453a-990b-26305dc6390a",
   "metadata": {},
   "outputs": [],
   "source": [
    "V = LaurentSeriesRing(S)\n",
    "def reduction_deg_2g(f,pol):\n",
    "    \"\"\"\n",
    "    Given a polynomial in x, returns the representative in K[x,y,z]/(y^2-f(x),yz-1) that is a polynomial in K[x][z,z^(-1)] with the \n",
    "    degree in x <=2\n",
    "    \"\"\"\n",
    "    if pol(z=1).degree()<3:\n",
    "        return pol\n",
    "    else: \n",
    "        n = pol(z=1).degree()\n",
    "        pol += - pol(z=1).coefficients()[-1]*(f^(floor(n/3))-1/z^(2*floor(n/3)))*x^(n%3)\n",
    "        return reduction_deg_2g(f,pol)"
   ]
  },
  {
   "cell_type": "markdown",
   "id": "8a89b31f-80d1-4f2b-8a5c-e434143ff1f8",
   "metadata": {},
   "source": [
    "Test to check if algorithm for reduction of monomials work"
   ]
  },
  {
   "cell_type": "code",
   "execution_count": 52,
   "id": "8f8c43e3-8b8f-4ed0-9b66-3a58a201e40c",
   "metadata": {},
   "outputs": [
    {
     "data": {
      "text/plain": [
       "s*r^14 - 182*s^2*r^12 - 7*s*r^12 + 1092*s^2*r^10 + 14196*r^12 - 984235*s*r^10 + 31985590*s^2*r^8 - 85176*r^10 + 4921245*s*r^8 - 127949640*s^2*r^6 - 665144116*r^8 + 25939082659*s*r^6 - 288953239146*s^2*r^4 + 2661144304*r^6 - 77836933013*s*r^4 + 578162380484*s^2*r^2 + 1875451651788*r^4 - 54217194935481*s*r^2 + 140877982475178*s^2 - 3756225819320*r^2 + 54269088848831*s + 1878778238324"
      ]
     },
     "execution_count": 52,
     "metadata": {},
     "output_type": "execute_result"
    }
   ],
   "source": [
    "V.<s,r,t> = PolynomialRing(QQ)\n",
    "I = V.ideal(r^2-1-26*s-s^3,r*t-1)\n",
    "I.reduce(s^22)"
   ]
  },
  {
   "cell_type": "markdown",
   "id": "bacf2786-825c-4c7b-ba91-022f2b07e600",
   "metadata": {},
   "source": [
    "The following function takes a power series in $z$ and returns the corresponding power series where the coefficients are the $c_i$ above"
   ]
  },
  {
   "cell_type": "code",
   "execution_count": 53,
   "id": "2587636a-b59e-4a91-b48d-7041ea30dba5",
   "metadata": {},
   "outputs": [],
   "source": [
    "def reduction_coeff(pow_ser):\n",
    "    \"\"\"\n",
    "    Given a power series in z with coefficients polynomials in x, uses the function reduction_deg_2g() to return the power series\n",
    "    with coefficients polynomials in x fo degree <3 in the polynomial ring K[x,y,z]/(y^2-f(x),yz-1)\n",
    "    \"\"\"\n",
    "    pow_ser_2 = pow_ser\n",
    "    for i in range(len(pow_ser_2.coefficients())):\n",
    "        pow_ser += -z^pow_ser_2.exponents()[i]*pow_ser_2.coefficients()[i]+z^pow_ser_2.exponents()[i]*reduction_deg_2g(f,pow_ser_2.coefficients()[i])\n",
    "    return pow_ser\n"
   ]
  },
  {
   "cell_type": "code",
   "execution_count": 54,
   "id": "b5cb0c2a-9e92-4088-98e6-782d2c2c13b1",
   "metadata": {},
   "outputs": [
    {
     "data": {
      "text/plain": [
       "(-30 + 5*x)*z^3 + (-65075/2 - 4610*x - 1395/2*x^2)*z^5 + (-1811600 - 598075/2*x - 197600*x^2)*z^7 + (-25298850 - 1432750*x - 15756575/2*x^2)*z^9 + (-115405250 + 80736875/2*x - 91455350*x^2)*z^11 + (-158776200 + 293290350*x - 745356925/2*x^2)*z^13 + (476328600*x - 476328600*x^2)*z^15 + O(z^25)"
      ]
     },
     "execution_count": 54,
     "metadata": {},
     "output_type": "execute_result"
    }
   ],
   "source": [
    "red_frob_eta = reduction_coeff(frob_eta)\n",
    "red_frob_omega = reduction_coeff(frob_omega)\n",
    "red_frob_omega"
   ]
  },
  {
   "cell_type": "markdown",
   "id": "6b20f570-a2a3-408c-bb4d-10a64574899c",
   "metadata": {},
   "source": [
    "Using the defining equation\n",
    "$$ \\frac{1}{z^2}=y^2=f(x)$$\n",
    "we obtain the relation at the level of differentials given by\n",
    "$$ dz = -\\frac{1}{2}z^3f'(x).$$\n",
    "From this we deduce\n",
    "$$ d(x^iz^j) = \\left(ix^{i-1}z^j-\\frac{1}{2}jf'(x)x^iz^{j+2}\\right)dx$$\n",
    "The following function computes $d(x^iz^j)$ in the reduced form."
   ]
  },
  {
   "cell_type": "code",
   "execution_count": 55,
   "id": "fda33238-853b-4c14-817d-a55178449618",
   "metadata": {},
   "outputs": [],
   "source": [
    "def differential_zn(f,i,n):\n",
    "    \"\"\"\n",
    "    Compute the exact differential d(x^iz^n) with i=0,1,2 and n integer\n",
    "    return p(x,z) where p(x,z)dx=d(x^i z^n) and p(x,z)=\\sum p_i(x)z^i with degree(p_i(x))<3 \n",
    "    \"\"\"\n",
    "    if n == 0:\n",
    "        return i*x^(i-1)*z^0\n",
    "    return (i*x^(i-1)*z^n+reduction_deg_2g(f,-1/2*n*f.derivative(x)*x^i)*z^(n+2))"
   ]
  },
  {
   "cell_type": "markdown",
   "id": "97b3d847-7e0f-45b1-81e8-39fb33faa830",
   "metadata": {},
   "source": [
    "In order to obtain the image of $\\varphi^*(\\omega)$ and $\\varphi^*(\\eta)$ in $H_{dR}$ we will need to understand what are the exact form $f_\\omega, f_\\eta$ for which\n",
    "$$ \\begin{pmatrix}\\varphi^*(\\omega) \\\\ \\varphi^*(\\eta)\\end{pmatrix} = M\\cdot \\begin{pmatrix}\\omega \\\\ \\eta \\end{pmatrix} + \\begin{pmatrix} df_\\omega \\\\ df_\\eta\\end{pmatrix}.$$\n",
    "This computation reduces to a linear algebraic relation of the highest (for the positive part) and lowest (for the negative one) power of $z$ appearing in the expression $d(x^iz^j)$ previously computed."
   ]
  },
  {
   "cell_type": "code",
   "execution_count": 56,
   "id": "b41d0fe7-163e-4ea3-95e1-37bb1f89550f",
   "metadata": {},
   "outputs": [],
   "source": [
    "def matrix_coeff_differentials_pos(n):\n",
    "    matrix_diff = matrix(P,3)\n",
    "    for i in range(3):\n",
    "        if differential_zn(f,i,n) == 0:\n",
    "            pol_coef = 0\n",
    "        else:\n",
    "            pol_coef = differential_zn(f,i,n).coefficients()[-1]\n",
    "        for j in range(3):\n",
    "            if pol_coef == 0:\n",
    "                matrix_diff[j,i] = 0\n",
    "            else:\n",
    "                matrix_diff[j,i] = pol_coef[j]\n",
    "    return matrix_diff\n",
    "\n",
    "def matrix_coeff_differentials_neg(n):\n",
    "    matrix_diff = matrix(P,3)\n",
    "    for i in range(3):\n",
    "        if differential_zn(f,i,n) == 0:\n",
    "            pol_coef = 0\n",
    "        else:\n",
    "            if i == 0:\n",
    "                pol_coef = differential_zn(f,i,n-2).coefficients()[0]\n",
    "            else:\n",
    "                pol_coef = differential_zn(f,i,n).coefficients()[0]\n",
    "        for j in range(3):\n",
    "            if pol_coef == 0:\n",
    "                matrix_diff[j,i] = 0\n",
    "            else:\n",
    "                matrix_diff[j,i] = pol_coef[j]\n",
    "    return matrix_diff\n",
    "\n",
    "def vector_coeff(pol):\n",
    "    return vector([pol[0],pol[1],pol[2]])"
   ]
  },
  {
   "cell_type": "code",
   "execution_count": 57,
   "id": "65b2e8ca-0610-4f0e-9752-94d91e575c23",
   "metadata": {},
   "outputs": [],
   "source": [
    "def reduction_z_pos(pow_ser,exact_form=0):\n",
    "    if pow_ser.degree()<3:\n",
    "        return (pow_ser,exact_form)\n",
    "    else:\n",
    "        k = pow_ser.degree()\n",
    "        M = matrix_coeff_differentials_pos(k-2)\n",
    "        V = vector_coeff(pow_ser.coefficients()[-1])\n",
    "        X = M.solve_right(V)\n",
    "        exact_form += X.dot_product(vector([x^0*z^(k-2),x^1*z^(k-2),x^2*z^(k-2)]))\n",
    "        return reduction_z_pos(pow_ser-X.dot_product(vector([differential_zn(f,0,k-2),differential_zn(f,1,k-2),differential_zn(f,2,k-2)])),exact_form)"
   ]
  },
  {
   "cell_type": "code",
   "execution_count": 77,
   "id": "1d43c671-8224-4994-942e-1b1453e7365f",
   "metadata": {},
   "outputs": [],
   "source": [
    "def reduction_z_neg(pow_ser,exact_form=0):\n",
    "    if pow_ser.exponents()[0]>0:\n",
    "        return (pow_ser,exact_form)\n",
    "    else:\n",
    "        k = pow_ser.exponents()[0]\n",
    "        M = matrix_coeff_differentials_neg(k)\n",
    "        V = vector_coeff(pow_ser.coefficients()[0])\n",
    "        X = M.solve_right(V)\n",
    "        exact_form += X.dot_product(vector([x^0*z^(k-2),x^1*z^k,x^2*z^k]))\n",
    "        return reduction_z_neg(pow_ser-X.dot_product(vector([differential_zn(f,0,k-2),differential_zn(f,1,k),differential_zn(f,2,k)])),exact_form)\n",
    "\n",
    "def reduction_z(pow_ser):\n",
    "    red_pow_ser_pos, exact_pos = reduction_z_pos(pow_ser)\n",
    "    red_pow_ser_neg, exact_neg = reduction_z_neg(red_pow_ser_pos,exact_pos)\n",
    "\n",
    "    exact_form = exact_neg + red_pow_ser_neg[1][2]/(differential_zn(f,0,-1)[1][2])*z^(-1)\n",
    "    red_pow_ser_fin = red_pow_ser_neg -red_pow_ser_neg[1][2]/(differential_zn(f,0,-1)[1][2])*differential_zn(f,0,-1)\n",
    "\n",
    "    return (red_pow_ser_fin,exact_form)\n",
    "    "
   ]
  },
  {
   "cell_type": "code",
   "execution_count": 79,
   "id": "3793cbf3-c228-4a06-a1a7-f5e836c59e54",
   "metadata": {},
   "outputs": [],
   "source": [
    "red_frob_eta_fin, exact_form_omega= reduction_z(red_frob_eta)\n",
    "red_frob_omega_fin, exact_form_eta= reduction_z(red_frob_eta)\n"
   ]
  },
  {
   "cell_type": "code",
   "execution_count": 80,
   "id": "7c038020-3204-4851-a93f-547b2e475f99",
   "metadata": {},
   "outputs": [],
   "source": [
    "matrix_frobenius = matrix(P,2)\n",
    "matrix_frobenius[0,0] = red_frob_omega_fin[1][0]\n",
    "matrix_frobenius[0,1] = red_frob_omega_fin[1][1]\n",
    "matrix_frobenius[1,0] = red_frob_eta_fin[1][0]\n",
    "matrix_frobenius[1,1] = red_frob_eta_fin[1][1]"
   ]
  },
  {
   "cell_type": "code",
   "execution_count": 81,
   "id": "7598f28e-c6d7-426f-bd76-3be56edef959",
   "metadata": {},
   "outputs": [
    {
     "data": {
      "text/plain": [
       "[   4232259/1456 -45206039/11648]\n",
       "[   4232259/1456 -45206039/11648]"
      ]
     },
     "execution_count": 81,
     "metadata": {},
     "output_type": "execute_result"
    }
   ],
   "source": [
    "matrix_frobenius"
   ]
  },
  {
   "cell_type": "code",
   "execution_count": 18,
   "id": "9ab868a7-d94c-4ff6-aedf-b556b74a59a4",
   "metadata": {},
   "outputs": [
    {
     "data": {
      "text/plain": [
       "(O(5^10) + (2 + O(5^9))*x)*z^-1 + (2*5 + 3*5^2 + 4*5^3 + 2*5^4 + 2*5^6 + 5^8 + 2*5^9 + O(5^10) + (2*5 + 4*5^2 + 4*5^3 + 2*5^4 + 4*5^5 + 2*5^6 + 5^7 + 3*5^8 + 5^9 + O(5^10))*x + (2*5^2 + 3*5^3 + 5^4 + 3*5^5 + 5^7 + 3*5^8 + 3*5^9 + O(5^10))*x^2)*z + (3*5 + 2*5^2 + 2*5^3 + 4*5^4 + 3*5^5 + 2*5^6 + 5^7 + 5^9 + O(5^10) + (3*5 + 4*5^3 + 5^4 + 2*5^5 + 2*5^6 + 5^7 + 4*5^9 + O(5^10))*x + (3*5 + 2*5^2 + 3*5^3 + 3*5^4 + 5^5 + 2*5^6 + 2*5^7 + 3*5^8 + O(5^10))*x^2)*z^3 + (3*5^4 + 2*5^5 + 3*5^6 + 3*5^7 + 4*5^9 + O(5^10) + (3*5^2 + 3*5^3 + 4*5^5 + 4*5^6 + 5^8 + 2*5^9 + O(5^10))*x + (3*5 + 2*5^2 + 4*5^4 + 4*5^6 + 4*5^8 + O(5^10))*x^2)*z^5 + (2*5^2 + 2*5^3 + 2*5^4 + 3*5^5 + 4*5^6 + 4*5^7 + 4*5^8 + 5^9 + 2*5^10 + O(5^11) + (2*5^2 + 3*5^3 + 5^4 + 3*5^5 + 5^6 + 4*5^8 + 5^9 + 3*5^10 + O(5^11))*x + (3*5^3 + 2*5^4 + 2*5^5 + 5^6 + 4*5^7 + 2*5^8 + 3*5^9 + 5^10 + O(5^11))*x^2)*z^7 + (3*5^3 + 3*5^5 + 3*5^6 + 4*5^7 + 4*5^8 + 3*5^9 + 5^10 + O(5^11) + (3*5^4 + 5^5 + 5^6 + 5^7 + 2*5^8 + 5^9 + 4*5^10 + O(5^11))*x + (3*5^3 + 5^4 + 3*5^5 + 2*5^6 + 4*5^7 + 3*5^8 + 4*5^9 + 5^10 + O(5^11))*x^2)*z^9 + (2*5^2 + 5^3 + 4*5^5 + 5^6 + 2*5^7 + 3*5^9 + 4*5^10 + O(5^11) + (3*5^2 + 2*5^4 + 4*5^5 + 5^7 + 3*5^8 + 5^9 + 2*5^10 + O(5^11))*x + (4*5^2 + 2*5^3 + 3*5^4 + 5^5 + 5^6 + 3*5^7 + 3*5^9 + 2*5^10 + O(5^11))*x^2)*z^11 + (3*5^3 + 2*5^4 + 3*5^5 + 4*5^6 + 2*5^7 + 3*5^8 + 3*5^9 + 4*5^10 + O(5^11) + (4*5^2 + 3*5^3 + 5^5 + 2*5^6 + 2*5^7 + 4*5^8 + 3*5^9 + 2*5^10 + O(5^11))*x + (4*5^2 + 5^3 + 2*5^4 + 5^5 + 5^6 + 2*5^7 + 5^8 + 4*5^9 + 5^10 + O(5^11))*x^2)*z^13"
      ]
     },
     "execution_count": 18,
     "metadata": {},
     "output_type": "execute_result"
    }
   ],
   "source": [
    "exact_form_omega\n",
    "exact_form_eta"
   ]
  },
  {
   "cell_type": "code",
   "execution_count": 82,
   "id": "c1f86486-1dd9-4246-a332-042785ad7676",
   "metadata": {},
   "outputs": [],
   "source": [
    "def matrix_frobenius(p,frob_omega,frob_eta,prec=10, exact_dif = False):\n",
    "\n",
    "    Z5 = Zp(p, prec, type = 'capped-abs', print_mode = 'series')\n",
    "    \n",
    "    red_frob_eta = reduction_coeff(frob_eta)\n",
    "    red_frob_omega = reduction_coeff(frob_omega)\n",
    "\n",
    "    red_frob_eta_fin, exact_form_omega= reduction_z(red_frob_eta)\n",
    "    red_frob_omega_fin, exact_form_eta= reduction_z(red_frob_eta)\n",
    "\n",
    "    matrix_frobenius = matrix(Z5,2)\n",
    "    matrix_frobenius[0,0] = red_frob_omega_fin[1][0]\n",
    "    matrix_frobenius[0,1] = red_frob_omega_fin[1][1]\n",
    "    matrix_frobenius[1,0] = red_frob_eta_fin[1][0]\n",
    "    matrix_frobenius[1,1] = red_frob_eta_fin[1][1]\n",
    "\n",
    "    if exact_dif:\n",
    "        return (matrix_frobenius, [exact_form_omega,exact_form_eta])\n",
    "    else:\n",
    "        return matrix_frobenius\n",
    "    "
   ]
  },
  {
   "cell_type": "code",
   "execution_count": null,
   "id": "600511fa-7af9-470d-8463-e8622eb989be",
   "metadata": {},
   "outputs": [],
   "source": []
  }
 ],
 "metadata": {
  "kernelspec": {
   "display_name": "SageMath 10.5",
   "language": "sage",
   "name": "sagemath-10.5"
  },
  "language_info": {
   "codemirror_mode": {
    "name": "ipython",
    "version": 3
   },
   "file_extension": ".py",
   "mimetype": "text/x-python",
   "name": "python",
   "nbconvert_exporter": "python",
   "pygments_lexer": "ipython3",
   "version": "3.12.5"
  }
 },
 "nbformat": 4,
 "nbformat_minor": 5
}
