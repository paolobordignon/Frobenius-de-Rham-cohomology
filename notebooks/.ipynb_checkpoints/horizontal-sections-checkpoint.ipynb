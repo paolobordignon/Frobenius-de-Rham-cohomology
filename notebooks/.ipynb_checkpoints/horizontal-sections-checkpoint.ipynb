{
 "cells": [
  {
   "cell_type": "markdown",
   "id": "19291421-81a0-4a32-b2e4-cee111b11180",
   "metadata": {},
   "source": [
    "## Horizontal sections for Gauss Manin connection "
   ]
  },
  {
   "cell_type": "code",
   "execution_count": 369,
   "id": "593a3b36-7dd5-4aa0-bf28-e8f6eceffc7b",
   "metadata": {},
   "outputs": [],
   "source": [
    "def extended_euclidean_poly(f, g):\n",
    "    R = f.parent()\n",
    "    x = S.gens()[0]  \n",
    "    r0, r1 = f, g\n",
    "    A0, A1, A2 = R(1), R(0), R(0)\n",
    "    B0, B1, B2 = R(0), R(1), R(0)\n",
    "    \n",
    "    while r1.degree() != 0:\n",
    "        r2 = r0 % r1\n",
    "        q = (r0-r2)/r1\n",
    "        r0 = r1\n",
    "        r1 = r2\n",
    "    \n",
    "        A2 = A0 - q*A1\n",
    "        B2 = B0 - q*B1\n",
    "        \n",
    "        A0 = A1\n",
    "        A1 = A2\n",
    "        B0 = B1\n",
    "        B1 = B2\n",
    "        \n",
    "    return (A2/r1,B2/r1)"
   ]
  },
  {
   "cell_type": "code",
   "execution_count": 387,
   "id": "d3055f4c-b252-4470-8d1e-32d858989a37",
   "metadata": {},
   "outputs": [],
   "source": [
    "def GaussManin(f, exact_bool = False):\n",
    "    \n",
    "    S = f.parent()\n",
    "    x = S.gens()[0]  \n",
    "    t = S.base_ring().gens()[0]\n",
    "\n",
    "    f_x = f.derivative(x)\n",
    "    f_t = f.derivative(t)\n",
    "    \n",
    "    (A,B) = extended_euclidean_poly(f, f_x)\n",
    "\n",
    "    A_t = A.derivative(t)\n",
    "    B_x = B.derivative(x)\n",
    "    B_t = B.derivative(t)\n",
    "\n",
    "    domega = -1/2*A*f_t - A_t*f + B_x*f_t-B_t*f_x\n",
    "    dxomega = x*domega + B*f_t\n",
    "    domega = domega.numerator()\n",
    "    dxomega = dxomega.numerator()\n",
    "\n",
    "    deg_domega = 0 if domega == 0 else domega.degree()\n",
    "    deg_dxomega = max(dxomega.degree(),0)\n",
    "    deg_max = max(deg_domega,deg_dxomega)\n",
    "    \n",
    "    vec_domega = [0] if domega == 0 else domega.coefficients(sparse = False)\n",
    "    vec_domega.reverse()\n",
    "    vec_domega = vector(vec_domega)\n",
    "    vec_dxomega = dxomega.coefficients(sparse = False)\n",
    "    vec_dxomega.reverse()\n",
    "    vec_dxomega = vector(vec_dxomega)\n",
    "\n",
    "    vec_f = f.list()\n",
    "    vec_f.reverse()\n",
    "    vec_f_x = f_x.list()\n",
    "    vec_f_x.reverse()\n",
    "    \n",
    "    vec_coefx = zero_vector(S,deg_max+1)\n",
    "    vec_coefx[deg_max-1] = 1\n",
    "    vec_coef0 = zero_vector(S,deg_max+1)\n",
    "    vec_coef0[deg_max] = 1\n",
    "\n",
    "    exact_form = 0 #this exact form needs to be multiplied to deduce the correct exact form to subtract\n",
    "\n",
    "    for n in range(1,deg_max):\n",
    "    \n",
    "        M_P = matrix(S,n,n,lambda i,j: vec_f_x[0] if i==j else vec_f_x[1] if i==j+1 else vec_f_x[2] if i==j+2 else 0 )\n",
    "    \n",
    "        M_Px = matrix(S,n,n,lambda i,j: (n-i-1)*vec_f[0] if i==j else (n-i)*vec_f[1] if i==j+1 else (n-i+1)*vec_f[2] if i==j+2 else (n-i+2)*vec_f[3] if i==j+3 else 0 )\n",
    "        \n",
    "        M = 1/2*M_P+M_Px\n",
    "    \n",
    "        unit_vec_xn = zero_vector(S,n)\n",
    "        unit_vec_xn[0] = 1\n",
    "    \n",
    "        F = sum([b*x^a for a,b in enumerate(reversed(M^(-1)*unit_vec_xn))])\n",
    "        exact_form += F\n",
    "        \n",
    "        xn_as_exact_form = 1/2*F*f_x+F.derivative(x)*f\n",
    "        # xn_as_exact_form =  X^(n+1)+coeff_x*X+coeff_0\n",
    "        \n",
    "        list_coeff_x = xn_as_exact_form.numerator().list()\n",
    "        list_coeff_x.reverse()\n",
    "        coeff_x = list_coeff_x[n]\n",
    "        vec_coefx[deg_max-n-1] = -1*coeff_x\n",
    "    \n",
    "        list_coeff_0 = xn_as_exact_form.numerator().list()\n",
    "        list_coeff_0.reverse()\n",
    "        coeff_0 = list_coeff_x[n+1]\n",
    "        vec_coef0[deg_max-n-1] = -1*coeff_0\n",
    "\n",
    "    xomega_coeff_domega = vec_coefx[(deg_max-deg_domega):deg_max+1].dot_product(vec_domega)\n",
    "    omega_coeff_domega= vec_coef0[(deg_max-deg_domega):deg_max+1].dot_product(vec_domega)\n",
    "    \n",
    "    xomega_coeff_dxomega= vec_coefx.dot_product(vec_dxomega)\n",
    "    omega_coeff_dxomega= vec_coef0.dot_product(vec_dxomega)\n",
    "    \n",
    "    GMmatrix = matrix([[omega_coeff_domega,xomega_coeff_domega],[omega_coeff_dxomega,xomega_coeff_dxomega]])(x=0)\n",
    "\n",
    "    if exact_bool:\n",
    "        return (GMmatrix,exact_form)\n",
    "    else:\n",
    "        return GMmatrix"
   ]
  },
  {
   "cell_type": "code",
   "execution_count": 608,
   "id": "cb202933-9961-45b0-87da-2adf3c4bd7be",
   "metadata": {},
   "outputs": [],
   "source": [
    "P.<t> = PolynomialRing(QQ,'t')\n",
    "Q = FractionField(P)\n",
    "S.<x> = PolynomialRing(Q,'x')\n",
    "\n",
    "N = GaussManin(x*(x-1)*(x-t+1))"
   ]
  },
  {
   "cell_type": "markdown",
   "id": "c59ebaf3-073c-4ff0-b5da-f969476c9f1a",
   "metadata": {},
   "source": [
    "Given the matrix of Gauss Manin connection $N$, we want to compute a matrix $U$ with power series entries in $\\mathbb{Q}[[t]]$ such that\n",
    "$$ NU+\\frac{d}{dt}U=0$$\n",
    "$$ U(0) = I_n$$"
   ]
  },
  {
   "cell_type": "code",
   "execution_count": 609,
   "id": "6f4ff50d-fb10-4def-a64a-9fce7d92dea2",
   "metadata": {},
   "outputs": [
    {
     "data": {
      "text/plain": [
       "[                                                      -1/4 - 1/8*t - 1/16*t^2 - 1/32*t^3 - 1/64*t^4 - 1/128*t^5 - 1/256*t^6 - 1/512*t^7 - 1/1024*t^8 - 1/2048*t^9 - 1/4096*t^10 - 1/8192*t^11 - 1/16384*t^12 - 1/32768*t^13 - 1/65536*t^14 - 1/131072*t^15 - 1/262144*t^16 - 1/524288*t^17 - 1/1048576*t^18 - 1/2097152*t^19 + O(t^20) -1/4 - 3/8*t - 7/16*t^2 - 15/32*t^3 - 31/64*t^4 - 63/128*t^5 - 127/256*t^6 - 255/512*t^7 - 511/1024*t^8 - 1023/2048*t^9 - 2047/4096*t^10 - 4095/8192*t^11 - 8191/16384*t^12 - 16383/32768*t^13 - 32767/65536*t^14 - 65535/131072*t^15 - 131071/262144*t^16 - 262143/524288*t^17 - 524287/1048576*t^18 - 1048575/2097152*t^19 + O(t^20)]\n",
       "[                                                      -1/4 - 1/8*t - 1/16*t^2 - 1/32*t^3 - 1/64*t^4 - 1/128*t^5 - 1/256*t^6 - 1/512*t^7 - 1/1024*t^8 - 1/2048*t^9 - 1/4096*t^10 - 1/8192*t^11 - 1/16384*t^12 - 1/32768*t^13 - 1/65536*t^14 - 1/131072*t^15 - 1/262144*t^16 - 1/524288*t^17 - 1/1048576*t^18 - 1/2097152*t^19 + O(t^20)                                                        1/4 + 1/8*t + 1/16*t^2 + 1/32*t^3 + 1/64*t^4 + 1/128*t^5 + 1/256*t^6 + 1/512*t^7 + 1/1024*t^8 + 1/2048*t^9 + 1/4096*t^10 + 1/8192*t^11 + 1/16384*t^12 + 1/32768*t^13 + 1/65536*t^14 + 1/131072*t^15 + 1/262144*t^16 + 1/524288*t^17 + 1/1048576*t^18 + 1/2097152*t^19 + O(t^20)]"
      ]
     },
     "execution_count": 609,
     "metadata": {},
     "output_type": "execute_result"
    }
   ],
   "source": [
    "R1.<a,b,c,d> = PolynomialRing(QQ)\n",
    "R.<t> = LaurentSeriesRing(R1,'t',default_prec = 20)\n",
    "N = matrix([[R(N[0,0]),R(N[0,1])],[R(N[1,0]),R(N[1,1])]])\n",
    "N"
   ]
  },
  {
   "cell_type": "code",
   "execution_count": 614,
   "id": "d7eb0295-cf62-4b47-a76e-529e65ab02a1",
   "metadata": {},
   "outputs": [
    {
     "data": {
      "text/plain": [
       "[-258551085159575/1337006139375616*t^19 + O(t^20)   -63282768226293/149533581377536*t^19 + O(t^20)]\n",
       "[   -1757021270875/334251534843904*t^19 + O(t^20)  -13760559303645/1196268651020288*t^19 + O(t^20)]"
      ]
     },
     "execution_count": 614,
     "metadata": {},
     "output_type": "execute_result"
    }
   ],
   "source": [
    "U = identity_matrix(R,2)\n",
    "U1 = matrix([[a,b],[c,d]])\n",
    "\n",
    "for i in range(1,R.default_prec()):\n",
    "    U += U1*t^i\n",
    "    N1 = ((N*U+U.derivative(t))/t^(i-1))(t=0)\n",
    "    J = R1.ideal(N1.list())\n",
    "    U = U(a=J.reduce(a),b=J.reduce(b),c=J.reduce(c),d=J.reduce(d))\n",
    "N*U+U.derivative(t)"
   ]
  },
  {
   "cell_type": "code",
   "execution_count": 613,
   "id": "e673184b-f923-4bd3-88e3-242910ff3dd1",
   "metadata": {},
   "outputs": [
    {
     "data": {
      "text/plain": [
       "20"
      ]
     },
     "execution_count": 613,
     "metadata": {},
     "output_type": "execute_result"
    }
   ],
   "source": []
  },
  {
   "cell_type": "code",
   "execution_count": null,
   "id": "b18cd0ef-3027-4cef-92dc-bca587c32ebb",
   "metadata": {},
   "outputs": [],
   "source": []
  }
 ],
 "metadata": {
  "kernelspec": {
   "display_name": "SageMath 10.5",
   "language": "sage",
   "name": "sagemath-10.5"
  },
  "language_info": {
   "codemirror_mode": {
    "name": "ipython",
    "version": 3
   },
   "file_extension": ".py",
   "mimetype": "text/x-python",
   "name": "python",
   "nbconvert_exporter": "python",
   "pygments_lexer": "ipython3",
   "version": "3.12.5"
  }
 },
 "nbformat": 4,
 "nbformat_minor": 5
}
